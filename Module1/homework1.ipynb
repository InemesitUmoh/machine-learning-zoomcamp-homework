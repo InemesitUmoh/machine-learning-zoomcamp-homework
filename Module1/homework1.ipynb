{
 "cells": [
  {
   "cell_type": "code",
   "execution_count": 1,
   "id": "ff5731d1-e8db-4ba5-96b2-50236ebd595a",
   "metadata": {},
   "outputs": [],
   "source": [
    "import pandas as pd\n",
    "import numpy as np"
   ]
  },
  {
   "cell_type": "code",
   "execution_count": 2,
   "id": "8c9b8ab8-d128-414c-bbd4-5f1505cf4066",
   "metadata": {},
   "outputs": [],
   "source": [
    "df = pd.read_csv('https://raw.githubusercontent.com/alexeygrigorev/datasets/master/car_fuel_efficiency.csv')"
   ]
  },
  {
   "cell_type": "code",
   "execution_count": 3,
   "id": "a28e21f6-2b3a-443b-b318-08ae5e2588d6",
   "metadata": {},
   "outputs": [
    {
     "data": {
      "text/html": [
       "<div>\n",
       "<style scoped>\n",
       "    .dataframe tbody tr th:only-of-type {\n",
       "        vertical-align: middle;\n",
       "    }\n",
       "\n",
       "    .dataframe tbody tr th {\n",
       "        vertical-align: top;\n",
       "    }\n",
       "\n",
       "    .dataframe thead th {\n",
       "        text-align: right;\n",
       "    }\n",
       "</style>\n",
       "<table border=\"1\" class=\"dataframe\">\n",
       "  <thead>\n",
       "    <tr style=\"text-align: right;\">\n",
       "      <th></th>\n",
       "      <th>engine_displacement</th>\n",
       "      <th>num_cylinders</th>\n",
       "      <th>horsepower</th>\n",
       "      <th>vehicle_weight</th>\n",
       "      <th>acceleration</th>\n",
       "      <th>model_year</th>\n",
       "      <th>origin</th>\n",
       "      <th>fuel_type</th>\n",
       "      <th>drivetrain</th>\n",
       "      <th>num_doors</th>\n",
       "      <th>fuel_efficiency_mpg</th>\n",
       "    </tr>\n",
       "  </thead>\n",
       "  <tbody>\n",
       "    <tr>\n",
       "      <th>0</th>\n",
       "      <td>170</td>\n",
       "      <td>3.0</td>\n",
       "      <td>159.0</td>\n",
       "      <td>3413.433759</td>\n",
       "      <td>17.7</td>\n",
       "      <td>2003</td>\n",
       "      <td>Europe</td>\n",
       "      <td>Gasoline</td>\n",
       "      <td>All-wheel drive</td>\n",
       "      <td>0.0</td>\n",
       "      <td>13.231729</td>\n",
       "    </tr>\n",
       "    <tr>\n",
       "      <th>1</th>\n",
       "      <td>130</td>\n",
       "      <td>5.0</td>\n",
       "      <td>97.0</td>\n",
       "      <td>3149.664934</td>\n",
       "      <td>17.8</td>\n",
       "      <td>2007</td>\n",
       "      <td>USA</td>\n",
       "      <td>Gasoline</td>\n",
       "      <td>Front-wheel drive</td>\n",
       "      <td>0.0</td>\n",
       "      <td>13.688217</td>\n",
       "    </tr>\n",
       "    <tr>\n",
       "      <th>2</th>\n",
       "      <td>170</td>\n",
       "      <td>NaN</td>\n",
       "      <td>78.0</td>\n",
       "      <td>3079.038997</td>\n",
       "      <td>15.1</td>\n",
       "      <td>2018</td>\n",
       "      <td>Europe</td>\n",
       "      <td>Gasoline</td>\n",
       "      <td>Front-wheel drive</td>\n",
       "      <td>0.0</td>\n",
       "      <td>14.246341</td>\n",
       "    </tr>\n",
       "    <tr>\n",
       "      <th>3</th>\n",
       "      <td>220</td>\n",
       "      <td>4.0</td>\n",
       "      <td>NaN</td>\n",
       "      <td>2542.392402</td>\n",
       "      <td>20.2</td>\n",
       "      <td>2009</td>\n",
       "      <td>USA</td>\n",
       "      <td>Diesel</td>\n",
       "      <td>All-wheel drive</td>\n",
       "      <td>2.0</td>\n",
       "      <td>16.912736</td>\n",
       "    </tr>\n",
       "    <tr>\n",
       "      <th>4</th>\n",
       "      <td>210</td>\n",
       "      <td>1.0</td>\n",
       "      <td>140.0</td>\n",
       "      <td>3460.870990</td>\n",
       "      <td>14.4</td>\n",
       "      <td>2009</td>\n",
       "      <td>Europe</td>\n",
       "      <td>Gasoline</td>\n",
       "      <td>All-wheel drive</td>\n",
       "      <td>2.0</td>\n",
       "      <td>12.488369</td>\n",
       "    </tr>\n",
       "  </tbody>\n",
       "</table>\n",
       "</div>"
      ],
      "text/plain": [
       "   engine_displacement  num_cylinders  horsepower  vehicle_weight  \\\n",
       "0                  170            3.0       159.0     3413.433759   \n",
       "1                  130            5.0        97.0     3149.664934   \n",
       "2                  170            NaN        78.0     3079.038997   \n",
       "3                  220            4.0         NaN     2542.392402   \n",
       "4                  210            1.0       140.0     3460.870990   \n",
       "\n",
       "   acceleration  model_year  origin fuel_type         drivetrain  num_doors  \\\n",
       "0          17.7        2003  Europe  Gasoline    All-wheel drive        0.0   \n",
       "1          17.8        2007     USA  Gasoline  Front-wheel drive        0.0   \n",
       "2          15.1        2018  Europe  Gasoline  Front-wheel drive        0.0   \n",
       "3          20.2        2009     USA    Diesel    All-wheel drive        2.0   \n",
       "4          14.4        2009  Europe  Gasoline    All-wheel drive        2.0   \n",
       "\n",
       "   fuel_efficiency_mpg  \n",
       "0            13.231729  \n",
       "1            13.688217  \n",
       "2            14.246341  \n",
       "3            16.912736  \n",
       "4            12.488369  "
      ]
     },
     "execution_count": 3,
     "metadata": {},
     "output_type": "execute_result"
    }
   ],
   "source": [
    "df.head()"
   ]
  },
  {
   "cell_type": "markdown",
   "id": "849e02b4-ff00-4631-8bc8-29ca9db591de",
   "metadata": {},
   "source": [
    "## Q1. Pandas Version"
   ]
  },
  {
   "cell_type": "code",
   "execution_count": 4,
   "id": "f00ca7b0-aa4c-4ba7-8264-30c9eb7f4cb8",
   "metadata": {},
   "outputs": [
    {
     "data": {
      "text/plain": [
       "'2.3.1'"
      ]
     },
     "execution_count": 4,
     "metadata": {},
     "output_type": "execute_result"
    }
   ],
   "source": [
    "pd.__version__"
   ]
  },
  {
   "cell_type": "markdown",
   "id": "7df39d6e-d550-422a-953d-fe7d0e3e781f",
   "metadata": {},
   "source": [
    "## Q2. Records Count"
   ]
  },
  {
   "cell_type": "code",
   "execution_count": 5,
   "id": "7ac9bca8-705f-4a4e-91fd-ca69197953b6",
   "metadata": {},
   "outputs": [
    {
     "name": "stdout",
     "output_type": "stream",
     "text": [
      "There are 9704 records in the dataset.\n"
     ]
    }
   ],
   "source": [
    "# How many records are in the dataset?\n",
    "\n",
    "record = df.shape[0]\n",
    "\n",
    "print(f\"There are {record} records in the dataset.\")"
   ]
  },
  {
   "cell_type": "markdown",
   "id": "904d4f53-0f66-4fbc-84d0-22a649920485",
   "metadata": {},
   "source": [
    "## Q3. Fuel Types"
   ]
  },
  {
   "cell_type": "code",
   "execution_count": 6,
   "id": "9079db10-7125-4fa9-85ca-4aef5c7bb2a0",
   "metadata": {},
   "outputs": [
    {
     "name": "stdout",
     "output_type": "stream",
     "text": [
      "There are 2 unique fuel types in the dataset.\n"
     ]
    }
   ],
   "source": [
    "# How many fuel types are presented in the dataset?\n",
    "\n",
    "fuel_type = df.fuel_type.value_counts().nunique()\n",
    "\n",
    "print(f\"There are {fuel_type} unique fuel types in the dataset.\")"
   ]
  },
  {
   "cell_type": "markdown",
   "id": "39844767-2314-481b-8a0b-42fce2a6458b",
   "metadata": {},
   "source": [
    "## Q4. Missing Values"
   ]
  },
  {
   "cell_type": "code",
   "execution_count": 7,
   "id": "5ea96d28-2759-446b-830c-158dadc444d4",
   "metadata": {},
   "outputs": [
    {
     "data": {
      "text/plain": [
       "engine_displacement      0\n",
       "num_cylinders          482\n",
       "horsepower             708\n",
       "vehicle_weight           0\n",
       "acceleration           930\n",
       "model_year               0\n",
       "origin                   0\n",
       "fuel_type                0\n",
       "drivetrain               0\n",
       "num_doors              502\n",
       "fuel_efficiency_mpg      0\n",
       "dtype: int64"
      ]
     },
     "execution_count": 7,
     "metadata": {},
     "output_type": "execute_result"
    }
   ],
   "source": [
    "# How many columns in the dataset have missing values?\n",
    "\n",
    "df.isnull().sum()"
   ]
  },
  {
   "cell_type": "code",
   "execution_count": 8,
   "id": "ece16927-6339-4051-a99b-96b7f321f2ac",
   "metadata": {},
   "outputs": [
    {
     "name": "stdout",
     "output_type": "stream",
     "text": [
      "The are 4 columns with missing values.\n"
     ]
    }
   ],
   "source": [
    "num_columns = len(df.columns[df.isnull().any()])\n",
    "\n",
    "print(f\"The are {num_columns} columns with missing values.\")"
   ]
  },
  {
   "cell_type": "markdown",
   "id": "74a0439f-bfc1-49e7-a7a7-6b46f5584e06",
   "metadata": {},
   "source": [
    "## Q5. Maximum Fuel Efficiency"
   ]
  },
  {
   "cell_type": "code",
   "execution_count": 9,
   "id": "4df4c40c-28e0-4bba-a2c3-15f486f7e706",
   "metadata": {},
   "outputs": [
    {
     "name": "stdout",
     "output_type": "stream",
     "text": [
      "The maximum fuel efficiency of cars from Asia is 23.759\n"
     ]
    }
   ],
   "source": [
    "# What's the maximum fuel efficiency of cars from Asia?\n",
    "\n",
    "max_fuel_eff_asia = df[df['origin'] == 'Asia'].fuel_efficiency_mpg.max()\n",
    "\n",
    "print(f\"The maximum fuel efficiency of cars from Asia is {round(max_fuel_eff_asia, 3)}\")"
   ]
  },
  {
   "cell_type": "markdown",
   "id": "488c2bc1-5880-4bbf-8861-5f66c7ca06e5",
   "metadata": {},
   "source": [
    "## Q6. Median Value of Horsepower"
   ]
  },
  {
   "cell_type": "code",
   "execution_count": 10,
   "id": "a963d747-c211-4938-bdfc-7d3a158d8610",
   "metadata": {},
   "outputs": [
    {
     "name": "stdout",
     "output_type": "stream",
     "text": [
      "Median before filling: 149.0\n"
     ]
    }
   ],
   "source": [
    "# Median value of the horsepower column in the dataset before filling the missing values\n",
    "\n",
    "median_before = df.horsepower.median()\n",
    "print(f\"Median before filling: {median_before}\")"
   ]
  },
  {
   "cell_type": "code",
   "execution_count": 11,
   "id": "d16e691d-8396-4921-9760-02250cdbcf34",
   "metadata": {},
   "outputs": [
    {
     "name": "stdout",
     "output_type": "stream",
     "text": [
      "152.0 is the value with the highest frequency, appearing 142 times.\n"
     ]
    }
   ],
   "source": [
    "# Most frequent value of the horsepower column\n",
    "\n",
    "most_frequent = df.horsepower.value_counts().idxmax() # Value with highest frequency\n",
    "\n",
    "count =  df.horsepower.value_counts().max() # The number of occurence - frequency\n",
    "\n",
    "print(f\"{most_frequent} is the value with the highest frequency, appearing {count} times.\")"
   ]
  },
  {
   "cell_type": "code",
   "execution_count": 12,
   "id": "f687c651-d6a2-4ea5-a4ff-06a1805e3c1b",
   "metadata": {},
   "outputs": [],
   "source": [
    "# Fill the missing values in the horsepower column with the most frequent value\n",
    "\n",
    "df['horsepower'] = df['horsepower'].fillna(most_frequent)\n"
   ]
  },
  {
   "cell_type": "code",
   "execution_count": 13,
   "id": "72647c3c-bf20-40d0-9cbf-086db2fef616",
   "metadata": {},
   "outputs": [
    {
     "name": "stdout",
     "output_type": "stream",
     "text": [
      "Median after filling: 152.0\n"
     ]
    }
   ],
   "source": [
    "# Median value of the horsepower column after filling the missing values\n",
    "\n",
    "median_after = df.horsepower.median()\n",
    "print(f\"Median after filling: {median_after}\")"
   ]
  },
  {
   "cell_type": "markdown",
   "id": "b3720e6d-4450-4480-b05c-ecb59ec70741",
   "metadata": {},
   "source": [
    "##### _The median value increased after filling the missing values in the horsepower column with the most frequent value_"
   ]
  },
  {
   "cell_type": "markdown",
   "id": "958ada9c-d4a7-49ab-a536-156ed5fde01d",
   "metadata": {},
   "source": [
    "## Q7. Sum of Weights"
   ]
  },
  {
   "cell_type": "code",
   "execution_count": 14,
   "id": "a09d67dc-189b-4d5e-a1c5-6bd419dbba22",
   "metadata": {},
   "outputs": [
    {
     "data": {
      "text/html": [
       "<div>\n",
       "<style scoped>\n",
       "    .dataframe tbody tr th:only-of-type {\n",
       "        vertical-align: middle;\n",
       "    }\n",
       "\n",
       "    .dataframe tbody tr th {\n",
       "        vertical-align: top;\n",
       "    }\n",
       "\n",
       "    .dataframe thead th {\n",
       "        text-align: right;\n",
       "    }\n",
       "</style>\n",
       "<table border=\"1\" class=\"dataframe\">\n",
       "  <thead>\n",
       "    <tr style=\"text-align: right;\">\n",
       "      <th></th>\n",
       "      <th>vehicle_weight</th>\n",
       "      <th>model_year</th>\n",
       "    </tr>\n",
       "  </thead>\n",
       "  <tbody>\n",
       "    <tr>\n",
       "      <th>8</th>\n",
       "      <td>2714.219310</td>\n",
       "      <td>2016</td>\n",
       "    </tr>\n",
       "    <tr>\n",
       "      <th>12</th>\n",
       "      <td>2783.868974</td>\n",
       "      <td>2010</td>\n",
       "    </tr>\n",
       "    <tr>\n",
       "      <th>14</th>\n",
       "      <td>3582.687368</td>\n",
       "      <td>2007</td>\n",
       "    </tr>\n",
       "    <tr>\n",
       "      <th>20</th>\n",
       "      <td>2231.808142</td>\n",
       "      <td>2011</td>\n",
       "    </tr>\n",
       "    <tr>\n",
       "      <th>21</th>\n",
       "      <td>2659.431451</td>\n",
       "      <td>2016</td>\n",
       "    </tr>\n",
       "    <tr>\n",
       "      <th>34</th>\n",
       "      <td>2844.227534</td>\n",
       "      <td>2014</td>\n",
       "    </tr>\n",
       "    <tr>\n",
       "      <th>38</th>\n",
       "      <td>3761.994038</td>\n",
       "      <td>2019</td>\n",
       "    </tr>\n",
       "  </tbody>\n",
       "</table>\n",
       "</div>"
      ],
      "text/plain": [
       "    vehicle_weight  model_year\n",
       "8      2714.219310        2016\n",
       "12     2783.868974        2010\n",
       "14     3582.687368        2007\n",
       "20     2231.808142        2011\n",
       "21     2659.431451        2016\n",
       "34     2844.227534        2014\n",
       "38     3761.994038        2019"
      ]
     },
     "execution_count": 14,
     "metadata": {},
     "output_type": "execute_result"
    }
   ],
   "source": [
    "# Select all the cars from Asia only vehicle_weight and model_year columns and the first 7 values\n",
    "\n",
    "df_asia = df[df['origin'] == 'Asia'][['vehicle_weight', 'model_year']]\n",
    "df_asia = df_asia.head(n=7)\n",
    "df_asia"
   ]
  },
  {
   "cell_type": "code",
   "execution_count": 15,
   "id": "baf4f45f-44a1-4aaa-b5b9-37780d155d10",
   "metadata": {},
   "outputs": [
    {
     "data": {
      "text/plain": [
       "array([[2714.21930965, 2016.        ],\n",
       "       [2783.86897424, 2010.        ],\n",
       "       [3582.68736772, 2007.        ],\n",
       "       [2231.8081416 , 2011.        ],\n",
       "       [2659.43145076, 2016.        ],\n",
       "       [2844.22753389, 2014.        ],\n",
       "       [3761.99403819, 2019.        ]])"
      ]
     },
     "execution_count": 15,
     "metadata": {},
     "output_type": "execute_result"
    }
   ],
   "source": [
    "# Underlying NumPy array\n",
    "\n",
    "X = df_asia[['vehicle_weight', 'model_year']].to_numpy()\n",
    "X"
   ]
  },
  {
   "cell_type": "code",
   "execution_count": 16,
   "id": "eba7aa58-4fda-4c6f-a44c-b7695131ff2e",
   "metadata": {},
   "outputs": [
    {
     "data": {
      "text/plain": [
       "array([[62248334.33150762, 41431216.5073268 ],\n",
       "       [41431216.5073268 , 28373339.        ]])"
      ]
     },
     "execution_count": 16,
     "metadata": {},
     "output_type": "execute_result"
    }
   ],
   "source": [
    "# Matrix-matrix multiplication between the transpose of X and X\n",
    "\n",
    "XTX = np.dot(X.T, X)\n",
    "\n",
    "XTX"
   ]
  },
  {
   "cell_type": "code",
   "execution_count": 17,
   "id": "f440c3ef-5144-4a88-8ce0-b451a8ceea87",
   "metadata": {},
   "outputs": [
    {
     "name": "stdout",
     "output_type": "stream",
     "text": [
      "[[ 5.71497081e-07 -8.34509443e-07]\n",
      " [-8.34509443e-07  1.25380877e-06]]\n"
     ]
    }
   ],
   "source": [
    "# Compute the inverse of XTX\n",
    "\n",
    "XTX_inv = np.linalg.inv(XTX)\n",
    "\n",
    "print(XTX_inv)"
   ]
  },
  {
   "cell_type": "code",
   "execution_count": 18,
   "id": "9f0f01b9-13bf-41c5-b7d9-7c9a4551387a",
   "metadata": {},
   "outputs": [
    {
     "data": {
      "text/plain": [
       "array([1100, 1300,  800,  900, 1000, 1100, 1200])"
      ]
     },
     "execution_count": 18,
     "metadata": {},
     "output_type": "execute_result"
    }
   ],
   "source": [
    "# Create an array y\n",
    "\n",
    "y = np.array([1100, 1300, 800, 900, 1000, 1100, 1200])\n",
    "y"
   ]
  },
  {
   "cell_type": "code",
   "execution_count": 19,
   "id": "1b0d4cb8-8b86-418a-a7d6-04909fb41fdd",
   "metadata": {},
   "outputs": [
    {
     "name": "stdout",
     "output_type": "stream",
     "text": [
      "w = [0.01386421 0.5049067 ]\n"
     ]
    }
   ],
   "source": [
    "# Multiply the inverse of XTX with the transpose of X, and then multiply the result by y\n",
    "\n",
    "w = np.dot(XTX_inv, np.dot(X.T, y))\n",
    "print(\"w =\", w)"
   ]
  },
  {
   "cell_type": "code",
   "execution_count": null,
   "id": "fed3bbd5-ae52-4170-9f04-c7d88a892d7c",
   "metadata": {},
   "outputs": [],
   "source": []
  }
 ],
 "metadata": {
  "kernelspec": {
   "display_name": "Python 3 (ipykernel)",
   "language": "python",
   "name": "python3"
  },
  "language_info": {
   "codemirror_mode": {
    "name": "ipython",
    "version": 3
   },
   "file_extension": ".py",
   "mimetype": "text/x-python",
   "name": "python",
   "nbconvert_exporter": "python",
   "pygments_lexer": "ipython3",
   "version": "3.12.1"
  }
 },
 "nbformat": 4,
 "nbformat_minor": 5
}
